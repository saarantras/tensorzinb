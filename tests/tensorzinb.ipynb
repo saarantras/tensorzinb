{
 "cells": [
  {
   "cell_type": "code",
   "execution_count": 1,
   "id": "29f42817",
   "metadata": {},
   "outputs": [],
   "source": [
    "from tensorzinb.tensorzinb import TensorZINB\n",
    "import numpy as np\n",
    "import time\n",
    "\n",
    "from scipy.stats import uniform, binom, nbinom, bernoulli\n",
    "import statsmodels.api as sm"
   ]
  },
  {
   "cell_type": "markdown",
   "id": "0806c4d8",
   "metadata": {},
   "source": [
    "## Poisson initialization validation for Negative Binomial"
   ]
  },
  {
   "cell_type": "code",
   "execution_count": 2,
   "id": "f2653469",
   "metadata": {},
   "outputs": [],
   "source": [
    "np.random.seed(1)                 # set seed to replicate example\n",
    "nobs= 25000                          # number of obs in model \n",
    "\n",
    "xb = np.ones((nobs,1)) *0.7\n",
    "theta = 0.5\n",
    "\n",
    "exb = np.exp(xb)\n",
    "nby = nbinom.rvs(exb, theta)\n",
    "X=np.ones((nobs,1))"
   ]
  },
  {
   "cell_type": "code",
   "execution_count": 3,
   "id": "89331457",
   "metadata": {},
   "outputs": [],
   "source": [
    "zinbo= TensorZINB(nby.reshape((-1,1)),X)"
   ]
  },
  {
   "cell_type": "code",
   "execution_count": 4,
   "id": "ecec57f3",
   "metadata": {},
   "outputs": [
    {
     "data": {
      "text/plain": [
       "{'x_mu': array([[0.69494556]]), 'theta': array([[0.69711051]])}"
      ]
     },
     "execution_count": 4,
     "metadata": {},
     "output_type": "execute_result"
    }
   ],
   "source": [
    "inits = zinbo._poisson_init()\n",
    "inits"
   ]
  },
  {
   "cell_type": "code",
   "execution_count": 5,
   "id": "cfe7c88b",
   "metadata": {},
   "outputs": [
    {
     "name": "stdout",
     "output_type": "stream",
     "text": [
      "Metal device set to: Apple M2\n"
     ]
    },
    {
     "data": {
      "text/plain": [
       "{'llf_total': -47019.82560537191,\n",
       " 'llfs': array([-47019.82560537]),\n",
       " 'aic_total': 94043.65121074382,\n",
       " 'aics': array([94043.65121074]),\n",
       " 'df_model_total': 2,\n",
       " 'df': 2,\n",
       " 'weights': {'x_mu': array([[0.6951688]], dtype=float32),\n",
       "  'theta': array([[0.69479316]], dtype=float32)},\n",
       " 'cpu_time': 0.49103713035583496,\n",
       " 'num_sample': 25000,\n",
       " 'epochs': 51}"
      ]
     },
     "execution_count": 5,
     "metadata": {},
     "output_type": "execute_result"
    }
   ],
   "source": [
    "r=zinbo.fit()\n",
    "r"
   ]
  },
  {
   "cell_type": "markdown",
   "id": "23403053",
   "metadata": {},
   "source": [
    "## Poisson initialization validation for Zero-inflated Negative Binomial "
   ]
  },
  {
   "cell_type": "code",
   "execution_count": 6,
   "id": "b09b1d8c",
   "metadata": {},
   "outputs": [],
   "source": [
    "np.random.seed(1)                    # set seed to replicate example\n",
    "nobs= 25000                          # number of obs in model \n",
    "\n",
    "xb = np.ones((nobs,1)) *0.7\n",
    "theta = 0.5\n",
    "\n",
    "xc = 2.0\n",
    "exc = 1.0 / (1.0 + np.exp(-xc))\n",
    "\n",
    "p = bernoulli.rvs(exc, size=(nobs,1))\n",
    "\n",
    "exb = np.exp(xb)\n",
    "nby = nbinom.rvs(exb, theta)*p\n",
    "X=np.ones((nobs,1))"
   ]
  },
  {
   "cell_type": "code",
   "execution_count": 7,
   "id": "b35ea245",
   "metadata": {},
   "outputs": [],
   "source": [
    "zinbo= TensorZINB(nby.reshape((-1,1)),X,exog_infl=X)"
   ]
  },
  {
   "cell_type": "code",
   "execution_count": 8,
   "id": "caf8242e",
   "metadata": {},
   "outputs": [
    {
     "data": {
      "text/plain": [
       "{'x_mu': array([[0.57050486]]),\n",
       " 'x_pi': array([[-3.52493127]]),\n",
       " 'theta': array([[0.33882783]])}"
      ]
     },
     "execution_count": 8,
     "metadata": {},
     "output_type": "execute_result"
    }
   ],
   "source": [
    "inits = zinbo._poisson_init()\n",
    "inits"
   ]
  },
  {
   "cell_type": "code",
   "execution_count": 9,
   "id": "cae86031",
   "metadata": {},
   "outputs": [
    {
     "data": {
      "text/plain": [
       "{'llf_total': -45113.60175795488,\n",
       " 'llfs': array([-45113.60175795]),\n",
       " 'aic_total': 90233.20351590976,\n",
       " 'aics': array([90233.20351591]),\n",
       " 'df_model_total': 3,\n",
       " 'df': 3,\n",
       " 'weights': {'x_mu': array([[0.6884514]], dtype=float32),\n",
       "  'x_pi': array([[-2.072716]], dtype=float32),\n",
       "  'theta': array([[0.6567552]], dtype=float32)},\n",
       " 'cpu_time': 2.100802183151245,\n",
       " 'num_sample': 25000,\n",
       " 'epochs': 1133}"
      ]
     },
     "execution_count": 9,
     "metadata": {},
     "output_type": "execute_result"
    }
   ],
   "source": [
    "r=zinbo.fit()\n",
    "r"
   ]
  },
  {
   "cell_type": "markdown",
   "id": "b1d6ecf0",
   "metadata": {},
   "source": [
    "## Negative Binomial"
   ]
  },
  {
   "cell_type": "code",
   "execution_count": 10,
   "id": "29034f15",
   "metadata": {},
   "outputs": [],
   "source": [
    "np.random.seed(1)                 # set seed to replicate example\n",
    "nobs= 25000                          # number of obs in model \n",
    "\n",
    "x1 = binom.rvs(1, 0.6, size=nobs)   # categorical explanatory variable\n",
    "x2 = uniform.rvs(size=nobs)         # real explanatory variable\n",
    "\n",
    "theta = 0.5\n",
    "X = sm.add_constant(np.column_stack((x1, x2)))\n",
    "beta = [1.0, 2.0, -1.5]\n",
    "xb = np.dot(X, beta)          # linear predictor\n",
    "\n",
    "exb = np.exp(xb)\n",
    "nby = nbinom.rvs(exb, theta)"
   ]
  },
  {
   "cell_type": "code",
   "execution_count": 11,
   "id": "c903fb7c",
   "metadata": {},
   "outputs": [],
   "source": [
    "zinbo= TensorZINB(nby.reshape((-1,1)),X)"
   ]
  },
  {
   "cell_type": "code",
   "execution_count": 12,
   "id": "afc58f5d",
   "metadata": {},
   "outputs": [
    {
     "data": {
      "text/plain": [
       "{'llf_total': -59241.24790102232,\n",
       " 'llfs': array([-59241.24790102]),\n",
       " 'aic_total': 118490.49580204464,\n",
       " 'aics': array([118490.49580204]),\n",
       " 'df_model_total': 4,\n",
       " 'df': 4,\n",
       " 'weights': {'x_mu': array([[ 1.0025651],\n",
       "         [ 1.9950333],\n",
       "         [-1.4982768]], dtype=float32),\n",
       "  'theta': array([[2.1333747]], dtype=float32)},\n",
       " 'cpu_time': 0.48426389694213867,\n",
       " 'num_sample': 25000,\n",
       " 'epochs': 260}"
      ]
     },
     "execution_count": 12,
     "metadata": {},
     "output_type": "execute_result"
    }
   ],
   "source": [
    "r=zinbo.fit()\n",
    "r"
   ]
  },
  {
   "cell_type": "markdown",
   "id": "197354bd",
   "metadata": {},
   "source": [
    "this is the definition of dispersion in statsmodels"
   ]
  },
  {
   "cell_type": "code",
   "execution_count": 13,
   "id": "49117f41",
   "metadata": {},
   "outputs": [
    {
     "data": {
      "text/plain": [
       "array([[0.11843693]], dtype=float32)"
      ]
     },
     "execution_count": 13,
     "metadata": {},
     "output_type": "execute_result"
    }
   ],
   "source": [
    "np.exp(-r['weights']['theta'])"
   ]
  },
  {
   "cell_type": "code",
   "execution_count": 14,
   "id": "09eec500",
   "metadata": {},
   "outputs": [
    {
     "data": {
      "text/html": [
       "<table class=\"simpletable\">\n",
       "<caption>NegativeBinomial Regression Results</caption>\n",
       "<tr>\n",
       "  <th>Dep. Variable:</th>           <td>y</td>        <th>  No. Observations:  </th>  <td> 25000</td> \n",
       "</tr>\n",
       "<tr>\n",
       "  <th>Model:</th>           <td>NegativeBinomial</td> <th>  Df Residuals:      </th>  <td> 24997</td> \n",
       "</tr>\n",
       "<tr>\n",
       "  <th>Method:</th>                 <td>MLE</td>       <th>  Df Model:          </th>  <td>     2</td> \n",
       "</tr>\n",
       "<tr>\n",
       "  <th>Date:</th>            <td>Tue, 16 May 2023</td> <th>  Pseudo R-squ.:     </th>  <td>0.2064</td> \n",
       "</tr>\n",
       "<tr>\n",
       "  <th>Time:</th>                <td>23:45:16</td>     <th>  Log-Likelihood:    </th> <td> -59241.</td>\n",
       "</tr>\n",
       "<tr>\n",
       "  <th>converged:</th>             <td>True</td>       <th>  LL-Null:           </th> <td> -74651.</td>\n",
       "</tr>\n",
       "<tr>\n",
       "  <th>Covariance Type:</th>     <td>nonrobust</td>    <th>  LLR p-value:       </th>  <td> 0.000</td> \n",
       "</tr>\n",
       "</table>\n",
       "<table class=\"simpletable\">\n",
       "<tr>\n",
       "    <td></td>       <th>coef</th>     <th>std err</th>      <th>z</th>      <th>P>|z|</th>  <th>[0.025</th>    <th>0.975]</th>  \n",
       "</tr>\n",
       "<tr>\n",
       "  <th>const</th> <td>    1.0028</td> <td>    0.010</td> <td>   96.502</td> <td> 0.000</td> <td>    0.982</td> <td>    1.023</td>\n",
       "</tr>\n",
       "<tr>\n",
       "  <th>x1</th>    <td>    1.9953</td> <td>    0.010</td> <td>  200.495</td> <td> 0.000</td> <td>    1.976</td> <td>    2.015</td>\n",
       "</tr>\n",
       "<tr>\n",
       "  <th>x2</th>    <td>   -1.4980</td> <td>    0.013</td> <td> -118.673</td> <td> 0.000</td> <td>   -1.523</td> <td>   -1.473</td>\n",
       "</tr>\n",
       "<tr>\n",
       "  <th>alpha</th> <td>    0.1184</td> <td>    0.003</td> <td>   42.072</td> <td> 0.000</td> <td>    0.113</td> <td>    0.124</td>\n",
       "</tr>\n",
       "</table>"
      ],
      "text/latex": [
       "\\begin{center}\n",
       "\\begin{tabular}{lclc}\n",
       "\\toprule\n",
       "\\textbf{Dep. Variable:}   &        y         & \\textbf{  No. Observations:  } &    25000    \\\\\n",
       "\\textbf{Model:}           & NegativeBinomial & \\textbf{  Df Residuals:      } &    24997    \\\\\n",
       "\\textbf{Method:}          &       MLE        & \\textbf{  Df Model:          } &        2    \\\\\n",
       "\\textbf{Date:}            & Tue, 16 May 2023 & \\textbf{  Pseudo R-squ.:     } &   0.2064    \\\\\n",
       "\\textbf{Time:}            &     23:45:16     & \\textbf{  Log-Likelihood:    } &   -59241.   \\\\\n",
       "\\textbf{converged:}       &       True       & \\textbf{  LL-Null:           } &   -74651.   \\\\\n",
       "\\textbf{Covariance Type:} &    nonrobust     & \\textbf{  LLR p-value:       } &    0.000    \\\\\n",
       "\\bottomrule\n",
       "\\end{tabular}\n",
       "\\begin{tabular}{lcccccc}\n",
       "               & \\textbf{coef} & \\textbf{std err} & \\textbf{z} & \\textbf{P$> |$z$|$} & \\textbf{[0.025} & \\textbf{0.975]}  \\\\\n",
       "\\midrule\n",
       "\\textbf{const} &       1.0028  &        0.010     &    96.502  &         0.000        &        0.982    &        1.023     \\\\\n",
       "\\textbf{x1}    &       1.9953  &        0.010     &   200.495  &         0.000        &        1.976    &        2.015     \\\\\n",
       "\\textbf{x2}    &      -1.4980  &        0.013     &  -118.673  &         0.000        &       -1.523    &       -1.473     \\\\\n",
       "\\textbf{alpha} &       0.1184  &        0.003     &    42.072  &         0.000        &        0.113    &        0.124     \\\\\n",
       "\\bottomrule\n",
       "\\end{tabular}\n",
       "%\\caption{NegativeBinomial Regression Results}\n",
       "\\end{center}"
      ],
      "text/plain": [
       "<class 'statsmodels.iolib.summary.Summary'>\n",
       "\"\"\"\n",
       "                     NegativeBinomial Regression Results                      \n",
       "==============================================================================\n",
       "Dep. Variable:                      y   No. Observations:                25000\n",
       "Model:               NegativeBinomial   Df Residuals:                    24997\n",
       "Method:                           MLE   Df Model:                            2\n",
       "Date:                Tue, 16 May 2023   Pseudo R-squ.:                  0.2064\n",
       "Time:                        23:45:16   Log-Likelihood:                -59241.\n",
       "converged:                       True   LL-Null:                       -74651.\n",
       "Covariance Type:            nonrobust   LLR p-value:                     0.000\n",
       "==============================================================================\n",
       "                 coef    std err          z      P>|z|      [0.025      0.975]\n",
       "------------------------------------------------------------------------------\n",
       "const          1.0028      0.010     96.502      0.000       0.982       1.023\n",
       "x1             1.9953      0.010    200.495      0.000       1.976       2.015\n",
       "x2            -1.4980      0.013   -118.673      0.000      -1.523      -1.473\n",
       "alpha          0.1184      0.003     42.072      0.000       0.113       0.124\n",
       "==============================================================================\n",
       "\"\"\""
      ]
     },
     "execution_count": 14,
     "metadata": {},
     "output_type": "execute_result"
    }
   ],
   "source": [
    "start_time = time.time()\n",
    "mod = sm.NegativeBinomial(nby, X).fit(maxiter=100, disp=False, warn_convergence=False)\n",
    "cpu_time = time.time() - start_time\n",
    "mod.summary()"
   ]
  },
  {
   "cell_type": "code",
   "execution_count": 15,
   "id": "c9800d85",
   "metadata": {},
   "outputs": [
    {
     "data": {
      "text/plain": [
       "0.10850691795349121"
      ]
     },
     "execution_count": 15,
     "metadata": {},
     "output_type": "execute_result"
    }
   ],
   "source": [
    "cpu_time"
   ]
  },
  {
   "cell_type": "markdown",
   "id": "b49ba5f0",
   "metadata": {},
   "source": [
    "TensorZINB matches statsmodels for Negative Binomial"
   ]
  },
  {
   "cell_type": "markdown",
   "id": "d466d83e",
   "metadata": {},
   "source": [
    "## Zero-inflated Negative Binomial "
   ]
  },
  {
   "cell_type": "code",
   "execution_count": 16,
   "id": "1d5d7d02",
   "metadata": {},
   "outputs": [],
   "source": [
    "np.random.seed(1)                 # set seed to replicate example\n",
    "nobs= 25000                          # number of obs in model \n",
    "\n",
    "x1 = binom.rvs(1, 0.6, size=nobs)   # categorical explanatory variable\n",
    "x2 = uniform.rvs(size=nobs)         # real explanatory variable\n",
    "\n",
    "theta = 0.5\n",
    "X = sm.add_constant(np.column_stack((x1, x2)))\n",
    "beta = [1.0, 2.0, -1.5]\n",
    "xb = np.dot(X, beta)          # linear predictor\n",
    "\n",
    "exb = np.exp(xb)\n",
    "\n",
    "xc = 3.0\n",
    "exc = 1.0 / (1.0 + np.exp(-xc))\n",
    "\n",
    "p = bernoulli.rvs(exc, size=(nobs,1))\n",
    "\n",
    "nby = nbinom.rvs(exb, theta).reshape((-1,1))*p\n",
    "X_infl=np.ones((nobs,1))"
   ]
  },
  {
   "cell_type": "code",
   "execution_count": 17,
   "id": "c6aedc3c",
   "metadata": {},
   "outputs": [],
   "source": [
    "zinbo= TensorZINB(nby.reshape((-1,1)),X,exog_infl=X_infl)"
   ]
  },
  {
   "cell_type": "code",
   "execution_count": 18,
   "id": "20786359",
   "metadata": {},
   "outputs": [
    {
     "data": {
      "text/plain": [
       "{'llf_total': -59281.92643573915,\n",
       " 'llfs': array([-59281.92643574]),\n",
       " 'aic_total': 118573.8528714783,\n",
       " 'aics': array([118573.85287148]),\n",
       " 'df_model_total': 5,\n",
       " 'df': 5,\n",
       " 'weights': {'x_mu': array([[ 1.0397824],\n",
       "         [ 1.9678782],\n",
       "         [-1.5097415]], dtype=float32),\n",
       "  'x_pi': array([[-2.7315001]], dtype=float32),\n",
       "  'theta': array([[2.196404]], dtype=float32)},\n",
       " 'cpu_time': 0.6659359931945801,\n",
       " 'num_sample': 25000,\n",
       " 'epochs': 309}"
      ]
     },
     "execution_count": 18,
     "metadata": {},
     "output_type": "execute_result"
    }
   ],
   "source": [
    "r=zinbo.fit()\n",
    "r"
   ]
  },
  {
   "cell_type": "markdown",
   "id": "ee0edcde",
   "metadata": {},
   "source": [
    "this is the definition of dispersion in statsmodels"
   ]
  },
  {
   "cell_type": "code",
   "execution_count": 19,
   "id": "669f7b66",
   "metadata": {},
   "outputs": [
    {
     "data": {
      "text/plain": [
       "array([[0.11120233]], dtype=float32)"
      ]
     },
     "execution_count": 19,
     "metadata": {},
     "output_type": "execute_result"
    }
   ],
   "source": [
    "np.exp(-r['weights']['theta'])"
   ]
  },
  {
   "cell_type": "markdown",
   "id": "c2942096",
   "metadata": {},
   "source": [
    "statsmodels cannot solve"
   ]
  },
  {
   "cell_type": "code",
   "execution_count": 20,
   "id": "89ff1a49",
   "metadata": {},
   "outputs": [
    {
     "name": "stdout",
     "output_type": "stream",
     "text": [
      "Warning: Desired error not necessarily achieved due to precision loss.\n",
      "         Current function value: nan\n",
      "         Iterations: 1\n",
      "         Function evaluations: 112\n",
      "         Gradient evaluations: 112\n"
     ]
    },
    {
     "data": {
      "text/html": [
       "<table class=\"simpletable\">\n",
       "<caption>ZeroInflatedNegativeBinomialP Regression Results</caption>\n",
       "<tr>\n",
       "  <th>Dep. Variable:</th>                 <td>y</td>               <th>  No. Observations:  </th>  <td> 25000</td> \n",
       "</tr>\n",
       "<tr>\n",
       "  <th>Model:</th>           <td>ZeroInflatedNegativeBinomialP</td> <th>  Df Residuals:      </th>  <td> 24997</td> \n",
       "</tr>\n",
       "<tr>\n",
       "  <th>Method:</th>                       <td>MLE</td>              <th>  Df Model:          </th>  <td>     2</td> \n",
       "</tr>\n",
       "<tr>\n",
       "  <th>Date:</th>                  <td>Tue, 16 May 2023</td>        <th>  Pseudo R-squ.:     </th>  <td>   nan</td> \n",
       "</tr>\n",
       "<tr>\n",
       "  <th>Time:</th>                      <td>23:45:21</td>            <th>  Log-Likelihood:    </th> <td>     nan</td>\n",
       "</tr>\n",
       "<tr>\n",
       "  <th>converged:</th>                   <td>False</td>             <th>  LL-Null:           </th> <td> -72991.</td>\n",
       "</tr>\n",
       "<tr>\n",
       "  <th>Covariance Type:</th>           <td>nonrobust</td>           <th>  LLR p-value:       </th>  <td>   nan</td> \n",
       "</tr>\n",
       "</table>\n",
       "<table class=\"simpletable\">\n",
       "<tr>\n",
       "        <td></td>           <th>coef</th>     <th>std err</th>      <th>z</th>      <th>P>|z|</th>  <th>[0.025</th>    <th>0.975]</th>  \n",
       "</tr>\n",
       "<tr>\n",
       "  <th>inflate_const</th> <td> -351.6158</td> <td>      nan</td> <td>      nan</td> <td>   nan</td> <td>      nan</td> <td>      nan</td>\n",
       "</tr>\n",
       "<tr>\n",
       "  <th>const</th>         <td>  213.8910</td> <td>      nan</td> <td>      nan</td> <td>   nan</td> <td>      nan</td> <td>      nan</td>\n",
       "</tr>\n",
       "<tr>\n",
       "  <th>x1</th>            <td>  100.9036</td> <td>      nan</td> <td>      nan</td> <td>   nan</td> <td>      nan</td> <td>      nan</td>\n",
       "</tr>\n",
       "<tr>\n",
       "  <th>x2</th>            <td>  101.6834</td> <td>      nan</td> <td>      nan</td> <td>   nan</td> <td>      nan</td> <td>      nan</td>\n",
       "</tr>\n",
       "<tr>\n",
       "  <th>alpha</th>         <td> -339.1602</td> <td>      nan</td> <td>      nan</td> <td>   nan</td> <td>      nan</td> <td>      nan</td>\n",
       "</tr>\n",
       "</table>"
      ],
      "text/latex": [
       "\\begin{center}\n",
       "\\begin{tabular}{lclc}\n",
       "\\toprule\n",
       "\\textbf{Dep. Variable:}   &               y               & \\textbf{  No. Observations:  } &    25000    \\\\\n",
       "\\textbf{Model:}           & ZeroInflatedNegativeBinomialP & \\textbf{  Df Residuals:      } &    24997    \\\\\n",
       "\\textbf{Method:}          &              MLE              & \\textbf{  Df Model:          } &        2    \\\\\n",
       "\\textbf{Date:}            &        Tue, 16 May 2023       & \\textbf{  Pseudo R-squ.:     } &      nan    \\\\\n",
       "\\textbf{Time:}            &            23:45:21           & \\textbf{  Log-Likelihood:    } &       nan   \\\\\n",
       "\\textbf{converged:}       &             False             & \\textbf{  LL-Null:           } &   -72991.   \\\\\n",
       "\\textbf{Covariance Type:} &           nonrobust           & \\textbf{  LLR p-value:       } &      nan    \\\\\n",
       "\\bottomrule\n",
       "\\end{tabular}\n",
       "\\begin{tabular}{lcccccc}\n",
       "                        & \\textbf{coef} & \\textbf{std err} & \\textbf{z} & \\textbf{P$> |$z$|$} & \\textbf{[0.025} & \\textbf{0.975]}  \\\\\n",
       "\\midrule\n",
       "\\textbf{inflate\\_const} &    -351.6158  &          nan     &       nan  &           nan        &          nan    &          nan     \\\\\n",
       "\\textbf{const}          &     213.8910  &          nan     &       nan  &           nan        &          nan    &          nan     \\\\\n",
       "\\textbf{x1}             &     100.9036  &          nan     &       nan  &           nan        &          nan    &          nan     \\\\\n",
       "\\textbf{x2}             &     101.6834  &          nan     &       nan  &           nan        &          nan    &          nan     \\\\\n",
       "\\textbf{alpha}          &    -339.1602  &          nan     &       nan  &           nan        &          nan    &          nan     \\\\\n",
       "\\bottomrule\n",
       "\\end{tabular}\n",
       "%\\caption{ZeroInflatedNegativeBinomialP Regression Results}\n",
       "\\end{center}"
      ],
      "text/plain": [
       "<class 'statsmodels.iolib.summary.Summary'>\n",
       "\"\"\"\n",
       "                     ZeroInflatedNegativeBinomialP Regression Results                    \n",
       "=========================================================================================\n",
       "Dep. Variable:                                 y   No. Observations:                25000\n",
       "Model:             ZeroInflatedNegativeBinomialP   Df Residuals:                    24997\n",
       "Method:                                      MLE   Df Model:                            2\n",
       "Date:                           Tue, 16 May 2023   Pseudo R-squ.:                     nan\n",
       "Time:                                   23:45:21   Log-Likelihood:                    nan\n",
       "converged:                                 False   LL-Null:                       -72991.\n",
       "Covariance Type:                       nonrobust   LLR p-value:                       nan\n",
       "=================================================================================\n",
       "                    coef    std err          z      P>|z|      [0.025      0.975]\n",
       "---------------------------------------------------------------------------------\n",
       "inflate_const  -351.6158        nan        nan        nan         nan         nan\n",
       "const           213.8910        nan        nan        nan         nan         nan\n",
       "x1              100.9036        nan        nan        nan         nan         nan\n",
       "x2              101.6834        nan        nan        nan         nan         nan\n",
       "alpha          -339.1602        nan        nan        nan         nan         nan\n",
       "=================================================================================\n",
       "\"\"\""
      ]
     },
     "execution_count": 20,
     "metadata": {},
     "output_type": "execute_result"
    }
   ],
   "source": [
    "start_time = time.time()\n",
    "mod = sm.ZeroInflatedNegativeBinomialP(nby.reshape((-1,1)),X,exog_infl=X_infl).fit()\n",
    "cpu_time = time.time() - start_time\n",
    "mod.summary()"
   ]
  },
  {
   "cell_type": "markdown",
   "id": "6c9a9924",
   "metadata": {},
   "source": [
    "statsmodels cannot solve even with Poisson init"
   ]
  },
  {
   "cell_type": "code",
   "execution_count": 21,
   "id": "e4880b27",
   "metadata": {},
   "outputs": [],
   "source": [
    "inits = zinbo._poisson_init()\n",
    "start_params=np.concatenate([inits['x_pi'].flatten(),inits['x_mu'].flatten(),np.exp(-inits['theta'].flatten())])"
   ]
  },
  {
   "cell_type": "code",
   "execution_count": 22,
   "id": "c43e0f7c",
   "metadata": {},
   "outputs": [
    {
     "name": "stdout",
     "output_type": "stream",
     "text": [
      "Warning: Desired error not necessarily achieved due to precision loss.\n",
      "         Current function value: nan\n",
      "         Iterations: 2\n",
      "         Function evaluations: 113\n",
      "         Gradient evaluations: 113\n"
     ]
    },
    {
     "data": {
      "text/html": [
       "<table class=\"simpletable\">\n",
       "<caption>ZeroInflatedNegativeBinomialP Regression Results</caption>\n",
       "<tr>\n",
       "  <th>Dep. Variable:</th>                 <td>y</td>               <th>  No. Observations:  </th>  <td> 25000</td> \n",
       "</tr>\n",
       "<tr>\n",
       "  <th>Model:</th>           <td>ZeroInflatedNegativeBinomialP</td> <th>  Df Residuals:      </th>  <td> 24997</td> \n",
       "</tr>\n",
       "<tr>\n",
       "  <th>Method:</th>                       <td>MLE</td>              <th>  Df Model:          </th>  <td>     2</td> \n",
       "</tr>\n",
       "<tr>\n",
       "  <th>Date:</th>                  <td>Tue, 16 May 2023</td>        <th>  Pseudo R-squ.:     </th>  <td>   nan</td> \n",
       "</tr>\n",
       "<tr>\n",
       "  <th>Time:</th>                      <td>23:45:24</td>            <th>  Log-Likelihood:    </th> <td>     nan</td>\n",
       "</tr>\n",
       "<tr>\n",
       "  <th>converged:</th>                   <td>False</td>             <th>  LL-Null:           </th> <td> -72991.</td>\n",
       "</tr>\n",
       "<tr>\n",
       "  <th>Covariance Type:</th>           <td>nonrobust</td>           <th>  LLR p-value:       </th>  <td>   nan</td> \n",
       "</tr>\n",
       "</table>\n",
       "<table class=\"simpletable\">\n",
       "<tr>\n",
       "        <td></td>           <th>coef</th>     <th>std err</th>      <th>z</th>      <th>P>|z|</th>  <th>[0.025</th>    <th>0.975]</th>  \n",
       "</tr>\n",
       "<tr>\n",
       "  <th>inflate_const</th> <td>    7.1325</td> <td>      nan</td> <td>      nan</td> <td>   nan</td> <td>      nan</td> <td>      nan</td>\n",
       "</tr>\n",
       "<tr>\n",
       "  <th>const</th>         <td>  -78.1776</td> <td>      nan</td> <td>      nan</td> <td>   nan</td> <td>      nan</td> <td>      nan</td>\n",
       "</tr>\n",
       "<tr>\n",
       "  <th>x1</th>            <td>  -88.9186</td> <td>      nan</td> <td>      nan</td> <td>   nan</td> <td>      nan</td> <td>      nan</td>\n",
       "</tr>\n",
       "<tr>\n",
       "  <th>x2</th>            <td>  -47.4675</td> <td>      nan</td> <td>      nan</td> <td>   nan</td> <td>      nan</td> <td>      nan</td>\n",
       "</tr>\n",
       "<tr>\n",
       "  <th>alpha</th>         <td> -679.3743</td> <td>      nan</td> <td>      nan</td> <td>   nan</td> <td>      nan</td> <td>      nan</td>\n",
       "</tr>\n",
       "</table>"
      ],
      "text/latex": [
       "\\begin{center}\n",
       "\\begin{tabular}{lclc}\n",
       "\\toprule\n",
       "\\textbf{Dep. Variable:}   &               y               & \\textbf{  No. Observations:  } &    25000    \\\\\n",
       "\\textbf{Model:}           & ZeroInflatedNegativeBinomialP & \\textbf{  Df Residuals:      } &    24997    \\\\\n",
       "\\textbf{Method:}          &              MLE              & \\textbf{  Df Model:          } &        2    \\\\\n",
       "\\textbf{Date:}            &        Tue, 16 May 2023       & \\textbf{  Pseudo R-squ.:     } &      nan    \\\\\n",
       "\\textbf{Time:}            &            23:45:24           & \\textbf{  Log-Likelihood:    } &       nan   \\\\\n",
       "\\textbf{converged:}       &             False             & \\textbf{  LL-Null:           } &   -72991.   \\\\\n",
       "\\textbf{Covariance Type:} &           nonrobust           & \\textbf{  LLR p-value:       } &      nan    \\\\\n",
       "\\bottomrule\n",
       "\\end{tabular}\n",
       "\\begin{tabular}{lcccccc}\n",
       "                        & \\textbf{coef} & \\textbf{std err} & \\textbf{z} & \\textbf{P$> |$z$|$} & \\textbf{[0.025} & \\textbf{0.975]}  \\\\\n",
       "\\midrule\n",
       "\\textbf{inflate\\_const} &       7.1325  &          nan     &       nan  &           nan        &          nan    &          nan     \\\\\n",
       "\\textbf{const}          &     -78.1776  &          nan     &       nan  &           nan        &          nan    &          nan     \\\\\n",
       "\\textbf{x1}             &     -88.9186  &          nan     &       nan  &           nan        &          nan    &          nan     \\\\\n",
       "\\textbf{x2}             &     -47.4675  &          nan     &       nan  &           nan        &          nan    &          nan     \\\\\n",
       "\\textbf{alpha}          &    -679.3743  &          nan     &       nan  &           nan        &          nan    &          nan     \\\\\n",
       "\\bottomrule\n",
       "\\end{tabular}\n",
       "%\\caption{ZeroInflatedNegativeBinomialP Regression Results}\n",
       "\\end{center}"
      ],
      "text/plain": [
       "<class 'statsmodels.iolib.summary.Summary'>\n",
       "\"\"\"\n",
       "                     ZeroInflatedNegativeBinomialP Regression Results                    \n",
       "=========================================================================================\n",
       "Dep. Variable:                                 y   No. Observations:                25000\n",
       "Model:             ZeroInflatedNegativeBinomialP   Df Residuals:                    24997\n",
       "Method:                                      MLE   Df Model:                            2\n",
       "Date:                           Tue, 16 May 2023   Pseudo R-squ.:                     nan\n",
       "Time:                                   23:45:24   Log-Likelihood:                    nan\n",
       "converged:                                 False   LL-Null:                       -72991.\n",
       "Covariance Type:                       nonrobust   LLR p-value:                       nan\n",
       "=================================================================================\n",
       "                    coef    std err          z      P>|z|      [0.025      0.975]\n",
       "---------------------------------------------------------------------------------\n",
       "inflate_const     7.1325        nan        nan        nan         nan         nan\n",
       "const           -78.1776        nan        nan        nan         nan         nan\n",
       "x1              -88.9186        nan        nan        nan         nan         nan\n",
       "x2              -47.4675        nan        nan        nan         nan         nan\n",
       "alpha          -679.3743        nan        nan        nan         nan         nan\n",
       "=================================================================================\n",
       "\"\"\""
      ]
     },
     "execution_count": 22,
     "metadata": {},
     "output_type": "execute_result"
    }
   ],
   "source": [
    "start_time = time.time()\n",
    "mod = sm.ZeroInflatedNegativeBinomialP(nby.reshape((-1,1)),X,exog_infl=X_infl).fit(start_params=start_params)\n",
    "cpu_time = time.time() - start_time\n",
    "mod.summary()"
   ]
  },
  {
   "cell_type": "markdown",
   "id": "f1865376",
   "metadata": {},
   "source": [
    "statsmodels only works when given optimized params generated by TensorZINB. It still takes very long time in this case."
   ]
  },
  {
   "cell_type": "code",
   "execution_count": 23,
   "id": "988e1cbd",
   "metadata": {},
   "outputs": [],
   "source": [
    "inits = r['weights']\n",
    "start_params=np.concatenate([inits['x_pi'].flatten(),inits['x_mu'].flatten(),np.exp(-inits['theta'].flatten())])"
   ]
  },
  {
   "cell_type": "code",
   "execution_count": 24,
   "id": "00e1d173",
   "metadata": {},
   "outputs": [
    {
     "name": "stdout",
     "output_type": "stream",
     "text": [
      "Optimization terminated successfully.\n",
      "         Current function value: 2.371275\n",
      "         Iterations: 5\n",
      "         Function evaluations: 8\n",
      "         Gradient evaluations: 8\n"
     ]
    },
    {
     "data": {
      "text/html": [
       "<table class=\"simpletable\">\n",
       "<caption>ZeroInflatedNegativeBinomialP Regression Results</caption>\n",
       "<tr>\n",
       "  <th>Dep. Variable:</th>                 <td>y</td>               <th>  No. Observations:  </th>  <td> 25000</td> \n",
       "</tr>\n",
       "<tr>\n",
       "  <th>Model:</th>           <td>ZeroInflatedNegativeBinomialP</td> <th>  Df Residuals:      </th>  <td> 24997</td> \n",
       "</tr>\n",
       "<tr>\n",
       "  <th>Method:</th>                       <td>MLE</td>              <th>  Df Model:          </th>  <td>     2</td> \n",
       "</tr>\n",
       "<tr>\n",
       "  <th>Date:</th>                  <td>Tue, 16 May 2023</td>        <th>  Pseudo R-squ.:     </th>  <td>0.1878</td> \n",
       "</tr>\n",
       "<tr>\n",
       "  <th>Time:</th>                      <td>23:45:25</td>            <th>  Log-Likelihood:    </th> <td> -59282.</td>\n",
       "</tr>\n",
       "<tr>\n",
       "  <th>converged:</th>                   <td>True</td>              <th>  LL-Null:           </th> <td> -72991.</td>\n",
       "</tr>\n",
       "<tr>\n",
       "  <th>Covariance Type:</th>           <td>nonrobust</td>           <th>  LLR p-value:       </th>  <td> 0.000</td> \n",
       "</tr>\n",
       "</table>\n",
       "<table class=\"simpletable\">\n",
       "<tr>\n",
       "        <td></td>           <th>coef</th>     <th>std err</th>      <th>z</th>      <th>P>|z|</th>  <th>[0.025</th>    <th>0.975]</th>  \n",
       "</tr>\n",
       "<tr>\n",
       "  <th>inflate_const</th> <td>   -2.7314</td> <td>    0.038</td> <td>  -72.583</td> <td> 0.000</td> <td>   -2.805</td> <td>   -2.658</td>\n",
       "</tr>\n",
       "<tr>\n",
       "  <th>const</th>         <td>    1.0393</td> <td>    0.011</td> <td>   91.869</td> <td> 0.000</td> <td>    1.017</td> <td>    1.061</td>\n",
       "</tr>\n",
       "<tr>\n",
       "  <th>x1</th>            <td>    1.9675</td> <td>    0.011</td> <td>  181.047</td> <td> 0.000</td> <td>    1.946</td> <td>    1.989</td>\n",
       "</tr>\n",
       "<tr>\n",
       "  <th>x2</th>            <td>   -1.5102</td> <td>    0.013</td> <td> -116.512</td> <td> 0.000</td> <td>   -1.536</td> <td>   -1.485</td>\n",
       "</tr>\n",
       "<tr>\n",
       "  <th>alpha</th>         <td>    0.1112</td> <td>    0.003</td> <td>   39.645</td> <td> 0.000</td> <td>    0.106</td> <td>    0.117</td>\n",
       "</tr>\n",
       "</table>"
      ],
      "text/latex": [
       "\\begin{center}\n",
       "\\begin{tabular}{lclc}\n",
       "\\toprule\n",
       "\\textbf{Dep. Variable:}   &               y               & \\textbf{  No. Observations:  } &    25000    \\\\\n",
       "\\textbf{Model:}           & ZeroInflatedNegativeBinomialP & \\textbf{  Df Residuals:      } &    24997    \\\\\n",
       "\\textbf{Method:}          &              MLE              & \\textbf{  Df Model:          } &        2    \\\\\n",
       "\\textbf{Date:}            &        Tue, 16 May 2023       & \\textbf{  Pseudo R-squ.:     } &   0.1878    \\\\\n",
       "\\textbf{Time:}            &            23:45:25           & \\textbf{  Log-Likelihood:    } &   -59282.   \\\\\n",
       "\\textbf{converged:}       &              True             & \\textbf{  LL-Null:           } &   -72991.   \\\\\n",
       "\\textbf{Covariance Type:} &           nonrobust           & \\textbf{  LLR p-value:       } &    0.000    \\\\\n",
       "\\bottomrule\n",
       "\\end{tabular}\n",
       "\\begin{tabular}{lcccccc}\n",
       "                        & \\textbf{coef} & \\textbf{std err} & \\textbf{z} & \\textbf{P$> |$z$|$} & \\textbf{[0.025} & \\textbf{0.975]}  \\\\\n",
       "\\midrule\n",
       "\\textbf{inflate\\_const} &      -2.7314  &        0.038     &   -72.583  &         0.000        &       -2.805    &       -2.658     \\\\\n",
       "\\textbf{const}          &       1.0393  &        0.011     &    91.869  &         0.000        &        1.017    &        1.061     \\\\\n",
       "\\textbf{x1}             &       1.9675  &        0.011     &   181.047  &         0.000        &        1.946    &        1.989     \\\\\n",
       "\\textbf{x2}             &      -1.5102  &        0.013     &  -116.512  &         0.000        &       -1.536    &       -1.485     \\\\\n",
       "\\textbf{alpha}          &       0.1112  &        0.003     &    39.645  &         0.000        &        0.106    &        0.117     \\\\\n",
       "\\bottomrule\n",
       "\\end{tabular}\n",
       "%\\caption{ZeroInflatedNegativeBinomialP Regression Results}\n",
       "\\end{center}"
      ],
      "text/plain": [
       "<class 'statsmodels.iolib.summary.Summary'>\n",
       "\"\"\"\n",
       "                     ZeroInflatedNegativeBinomialP Regression Results                    \n",
       "=========================================================================================\n",
       "Dep. Variable:                                 y   No. Observations:                25000\n",
       "Model:             ZeroInflatedNegativeBinomialP   Df Residuals:                    24997\n",
       "Method:                                      MLE   Df Model:                            2\n",
       "Date:                           Tue, 16 May 2023   Pseudo R-squ.:                  0.1878\n",
       "Time:                                   23:45:25   Log-Likelihood:                -59282.\n",
       "converged:                                  True   LL-Null:                       -72991.\n",
       "Covariance Type:                       nonrobust   LLR p-value:                     0.000\n",
       "=================================================================================\n",
       "                    coef    std err          z      P>|z|      [0.025      0.975]\n",
       "---------------------------------------------------------------------------------\n",
       "inflate_const    -2.7314      0.038    -72.583      0.000      -2.805      -2.658\n",
       "const             1.0393      0.011     91.869      0.000       1.017       1.061\n",
       "x1                1.9675      0.011    181.047      0.000       1.946       1.989\n",
       "x2               -1.5102      0.013   -116.512      0.000      -1.536      -1.485\n",
       "alpha             0.1112      0.003     39.645      0.000       0.106       0.117\n",
       "=================================================================================\n",
       "\"\"\""
      ]
     },
     "execution_count": 24,
     "metadata": {},
     "output_type": "execute_result"
    }
   ],
   "source": [
    "start_time = time.time()\n",
    "mod = sm.ZeroInflatedNegativeBinomialP(nby.reshape((-1,1)),X,exog_infl=X_infl).fit(start_params=start_params)\n",
    "cpu_time = time.time() - start_time\n",
    "mod.summary()"
   ]
  },
  {
   "cell_type": "code",
   "execution_count": 25,
   "id": "bb7afe28",
   "metadata": {},
   "outputs": [
    {
     "data": {
      "text/plain": [
       "0.3456001281738281"
      ]
     },
     "execution_count": 25,
     "metadata": {},
     "output_type": "execute_result"
    }
   ],
   "source": [
    "cpu_time"
   ]
  },
  {
   "cell_type": "markdown",
   "id": "d1ab5684",
   "metadata": {},
   "source": [
    "TensorZINB matches statsmodels for Zero-inflated Negative Binomial when TensorZINB results are used for statsmodels initialization. The estimated weights from TensorZINB are close to true values used to generate the samples."
   ]
  },
  {
   "cell_type": "code",
   "execution_count": null,
   "id": "9e96cad4",
   "metadata": {},
   "outputs": [],
   "source": []
  },
  {
   "cell_type": "code",
   "execution_count": null,
   "id": "25e7ebf4",
   "metadata": {},
   "outputs": [],
   "source": []
  }
 ],
 "metadata": {
  "kernelspec": {
   "display_name": "Python 3 (ipykernel)",
   "language": "python",
   "name": "python3"
  },
  "language_info": {
   "codemirror_mode": {
    "name": "ipython",
    "version": 3
   },
   "file_extension": ".py",
   "mimetype": "text/x-python",
   "name": "python",
   "nbconvert_exporter": "python",
   "pygments_lexer": "ipython3",
   "version": "3.9.13"
  }
 },
 "nbformat": 4,
 "nbformat_minor": 5
}
